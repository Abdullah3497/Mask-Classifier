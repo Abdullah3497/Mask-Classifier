{
 "cells": [
  {
   "cell_type": "code",
   "execution_count": 2,
   "id": "e26cc3ad-0681-4227-8254-5e685f664d9a",
   "metadata": {},
   "outputs": [
    {
     "name": "stdout",
     "output_type": "stream",
     "text": [
      "Using device: cpu\n",
      "Classes: ['with_mask', 'without_mask']\n"
     ]
    }
   ],
   "source": [
    "# ✅ All Imports\n",
    "import torch\n",
    "import torch.nn as nn\n",
    "import torch.optim as optim\n",
    "from torchvision import datasets, transforms\n",
    "from torch.utils.data import DataLoader, random_split\n",
    "from PIL import Image\n",
    "\n",
    "# ✅ Device Setup\n",
    "device = torch.device(\"cuda\" if torch.cuda.is_available() else \"cpu\")\n",
    "print(f\"Using device: {device}\")\n",
    "\n",
    "# ✅ Transforms (fix warning and resize)\n",
    "transform = transforms.Compose([\n",
    "    transforms.Lambda(lambda img: img.convert(\"RGB\")),  # Convert palette images to RGB\n",
    "    transforms.Resize((64, 64)),\n",
    "    transforms.ToTensor(),\n",
    "    transforms.Normalize([0.5], [0.5])\n",
    "])\n",
    "\n",
    "# ✅ Load Dataset (from current directory)\n",
    "dataset = datasets.ImageFolder(root='dataset', transform=transform)\n",
    "\n",
    "# ✅ Split into train/test sets\n",
    "train_size = int(0.8 * len(dataset))\n",
    "val_size = len(dataset) - train_size\n",
    "train_dataset, val_dataset = random_split(dataset, [train_size, val_size])\n",
    "\n",
    "# ✅ DataLoaders\n",
    "train_loader = DataLoader(train_dataset, batch_size=32, shuffle=True)\n",
    "val_loader = DataLoader(val_dataset, batch_size=32, shuffle=False)\n",
    "\n",
    "# ✅ Check class names\n",
    "print(\"Classes:\", dataset.classes)\n",
    "\n",
    "         \n",
    "\n"
   ]
  },
  {
   "cell_type": "code",
   "execution_count": 4,
   "id": "9ea1f786-168d-4ec6-ab0b-11afb7a18b0b",
   "metadata": {},
   "outputs": [],
   "source": [
    "class MaskCNN(nn.Module):\n",
    "    def __init__(self):\n",
    "        super(MaskCNN, self).__init__()\n",
    "        self.model = nn.Sequential(\n",
    "            nn.Conv2d(3, 16, kernel_size=3, stride=1, padding=1),  # [B, 3, 64, 64] -> [B, 16, 64, 64]\n",
    "            nn.ReLU(),\n",
    "            nn.MaxPool2d(2, 2),  # -> [B, 16, 32, 32]\n",
    "\n",
    "            nn.Conv2d(16, 32, kernel_size=3, stride=1, padding=1),  # -> [B, 32, 32, 32]\n",
    "            nn.ReLU(),\n",
    "            nn.MaxPool2d(2, 2),  # -> [B, 32, 16, 16]\n",
    "\n",
    "            nn.Conv2d(32, 64, kernel_size=3, stride=1, padding=1),  # -> [B, 64, 16, 16]\n",
    "            nn.ReLU(),\n",
    "            nn.MaxPool2d(2, 2),  # -> [B, 64, 8, 8]\n",
    "\n",
    "            nn.Flatten(),  # -> [B, 64*8*8]\n",
    "            nn.Linear(64*8*8, 128),\n",
    "            nn.ReLU(),\n",
    "            nn.Dropout(0.3),\n",
    "            nn.Linear(128, 2)  # 2 classes: with_mask, without_mask\n",
    "        )\n",
    "\n",
    "    def forward(self, x):\n",
    "        return self.model(x)"
   ]
  },
  {
   "cell_type": "code",
   "execution_count": 5,
   "id": "c24c9eb0-5683-49e3-b011-c2d701f3cf4e",
   "metadata": {},
   "outputs": [
    {
     "name": "stdout",
     "output_type": "stream",
     "text": [
      "Epoch [1/5], Loss: 66.3516, Validation Accuracy: 89.54%\n",
      "Epoch [2/5], Loss: 38.5844, Validation Accuracy: 93.25%\n",
      "Epoch [3/5], Loss: 27.8728, Validation Accuracy: 95.23%\n",
      "Epoch [4/5], Loss: 21.4923, Validation Accuracy: 95.63%\n",
      "Epoch [5/5], Loss: 17.5817, Validation Accuracy: 95.70%\n"
     ]
    }
   ],
   "source": [
    "# ✅ Initialize model, loss, optimizer\n",
    "model = MaskCNN().to(device)\n",
    "criterion = nn.CrossEntropyLoss()\n",
    "optimizer = optim.Adam(model.parameters(), lr=0.001)\n",
    "\n",
    "# ✅ Training loop\n",
    "\n",
    "epochs = 5\n",
    "for epoch in range(epochs):\n",
    "    model.train()\n",
    "    total_loss = 0\n",
    "\n",
    "    for images, labels in train_loader:\n",
    "        images, labels = images.to(device), labels.to(device)\n",
    "\n",
    "        outputs = model(images)\n",
    "        loss = criterion(outputs, labels)\n",
    "\n",
    "        optimizer.zero_grad()\n",
    "        loss.backward()\n",
    "        optimizer.step()\n",
    "\n",
    "        total_loss += loss.item()\n",
    "\n",
    "    # ✅ Validation\n",
    "    model.eval()\n",
    "    correct = 0\n",
    "    total = 0\n",
    "    with torch.no_grad():\n",
    "        for images, labels in val_loader:\n",
    "            images, labels = images.to(device), labels.to(device)\n",
    "            outputs = model(images)\n",
    "            _, predicted = torch.max(outputs, 1)\n",
    "            total += labels.size(0)\n",
    "            correct += (predicted == labels).sum().item()\n",
    "\n",
    "    accuracy = 100 * correct / total\n",
    "    print(f\"Epoch [{epoch+1}/{epochs}], Loss: {total_loss:.4f}, Validation Accuracy: {accuracy:.2f}%\")\n",
    "\n",
    "# ✅ Save model (optional)\n",
    "torch.save(model.state_dict(), \"mask_cnn.pth\")\n"
   ]
  },
  {
   "cell_type": "code",
   "execution_count": 10,
   "id": "cab81f23-4071-4f8d-ba1c-5da9fce89054",
   "metadata": {},
   "outputs": [
    {
     "name": "stdout",
     "output_type": "stream",
     "text": [
      "Prediction: with_mask\n"
     ]
    }
   ],
   "source": [
    "from PIL import Image\n",
    "import torch\n",
    "\n",
    "# Step 1: Load your model\n",
    "model.eval()  # set model to eval mode\n",
    "\n",
    "# Step 2: Load and transform your image\n",
    "img_path = 'chatgptpic.png'  # ⬅️ Replace this with your actual file name\n",
    "image = Image.open(img_path).convert('RGB')\n",
    "\n",
    "# Apply the same transform as training\n",
    "transform = transforms.Compose([\n",
    "    transforms.Resize((64, 64)),\n",
    "    transforms.ToTensor(),\n",
    "    transforms.Normalize([0.5], [0.5])\n",
    "])\n",
    "\n",
    "image = transform(image).unsqueeze(0).to(device)  # Add batch dimension\n",
    "\n",
    "# Step 3: Predict\n",
    "with torch.no_grad():\n",
    "    output = model(image)\n",
    "    _, predicted = torch.max(output, 1)\n",
    "\n",
    "# Step 4: Get class label\n",
    "classes = dataset.classes  # Should be ['with_mask', 'without_mask']\n",
    "print(\"Prediction:\", classes[predicted.item()])\n"
   ]
  },
  {
   "cell_type": "code",
   "execution_count": null,
   "id": "4e5a95c3-04a8-480e-82d9-696337ef1ded",
   "metadata": {},
   "outputs": [],
   "source": []
  }
 ],
 "metadata": {
  "kernelspec": {
   "display_name": "Python 3 (ipykernel)",
   "language": "python",
   "name": "python3"
  },
  "language_info": {
   "codemirror_mode": {
    "name": "ipython",
    "version": 3
   },
   "file_extension": ".py",
   "mimetype": "text/x-python",
   "name": "python",
   "nbconvert_exporter": "python",
   "pygments_lexer": "ipython3",
   "version": "3.11.13"
  }
 },
 "nbformat": 4,
 "nbformat_minor": 5
}
